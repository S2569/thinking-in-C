{
 "cells": [
  {
   "cell_type": "markdown",
   "id": "197e3cc6",
   "metadata": {},
   "source": [
    "<span style=\"color:#ADD8E6; font-size:60px; font-weight:bold\">C Program Compilation in Windows</span>\n",
    "\n",
    "---\n",
    "---\n",
    "\n",
    "\n",
    "\n",
    "## 💡<span style=\"color:#ADD8E6; font-size:40px; font-weight:bold\">Detailed Compilation Steps</span>\n",
    "\n",
    ">During the compilation of a C program in `windows`, from source code (main.c) to an executable binary(output.exe), a series of steps occur: `preprocessing`, `compilation`, `assembly`, and `linking` —each generating intermediate files (.i, .s, .o). These files are automatically created and deleted unless explicitly retained (e.g., using -save-temps). By default, only the final executable (e.g., a.out) remains. The process can be streamlined with one-step compilation (gcc main.c -o output.exe), which handles all stages implicitly.\n",
    "\n",
    "Below is a flowchart illustrating the different stages of the compilation process in `windows`, along with the associated intermediate files created at each step:\n"
   ]
  },
  {
   "cell_type": "markdown",
   "id": "b89a27ea",
   "metadata": {},
   "source": [
    "<div style=\"display: block; text-align: center; font-family: Arial, sans-serif; margin: 20px auto;\">\n",
    "<div style=\"font-size: 25px; color: black; font-weight: bold; border: 5px solid black; padding: 3px; width: 150px; margin: 10px auto; background-color: white;\">main.c</div>\n",
    "\n",
    "<div style=\"margin: 5px 0; font-size: 20px;\">▼</div>\n",
    "\n",
    "<div style=\"margin: 10px 0;\">Preprocessing:\n",
    "<span style=\"font-size: 18px; color: black; font-family: Courier, monospace; background-color: rgba(244, 244, 244, 0.69); padding: 1px 5px; border-radius: 4px; display: inline-block; margin: 5px 0;\">gcc -E main.c -o main.i</span></div>\n",
    "\n",
    "<div style=\"margin: 5px 0; font-size: 20px;\">▼</div>\n",
    "\n",
    "<div style=\"font-size: 25px; color: black; font-weight: bold; border: 5px solid black; padding: 3px; width: 150px; margin: 10px auto; background-color: white;\">main.i</div>\n",
    "\n",
    "<div style=\"margin: 5px 0; font-size: 20px;\">▼</div>\n",
    "\n",
    "<div style=\"margin: 10px 0;\">Compilation:\n",
    "<span style=\"font-size: 18px; color: black; font-family: Courier, monospace; background-color: rgba(244, 244, 244, 0.69); padding: 1px 5px; border-radius: 4px; display: inline-block; margin: 5px 0;\">gcc -S main.i -o main.s</span></div>\n",
    "\n",
    "<div style=\"margin: 5px 0; font-size: 20px;\">▼</div>\n",
    "\n",
    "<div style=\"font-size: 25px; color: black; font-weight: bold; border: 5px solid black; padding: 3px; width: 150px; margin: 10px auto; background-color: white;\">main.s</div>\n",
    "\n",
    "<div style=\"margin: 5px 0; font-size: 20px;\">▼</div>\n",
    "\n",
    "<div style=\"margin: 10px 0;\">Assembling:\n",
    "<span style=\"font-size: 18px; color: black; font-family: Courier, monospace; background-color: rgba(244, 244, 244, 0.69); padding: 1px 5px; border-radius: 4px; display: inline-block; margin: 5px 0;\">gcc -c main.s -o main.o</span></div>\n",
    "\n",
    "<div style=\"margin: 5px 0; font-size: 20px;\">▼</div>\n",
    "\n",
    "<div style=\"font-size: 25px; color: black; font-weight: bold; border: 5px solid black; padding: 3px; width: 150px; margin: 10px auto; background-color: white;\">main.o</div>\n",
    "\n",
    "<div style=\"margin: 5px 0; font-size: 20px;\">▼</div>\n",
    "\n",
    "<div style=\"margin: 10px 0;\">Linking:\n",
    "<span style=\"font-size: 18px; color: black; font-family: Courier, monospace; background-color: rgba(244, 244, 244, 0.69); padding: 1px 5px; border-radius: 4px; display: inline-block; margin: 5px 0;\">gcc main.o -o output.exe</span></div>\n",
    "\n",
    "<div style=\"margin: 5px 0; font-size: 20px;\">▼</div>\n",
    "\n",
    "<div style=\"font-size: 25px; color: black; font-weight: bold; border: 5px solid black; padding: 3px; width: 150px; margin: 10px auto; background-color: white;\">output.exe</div>\n",
    "\n",
    "<div style=\"margin: 5px 0; font-size: 20px;\">▼</div>\n",
    "\n",
    "<div style=\"margin: 10px 0;\">Generating map file (Optional)</div>\n",
    "<span style=\"font-size: 18px; color: black; font-family: Courier, monospace; background-color: rgba(244, 244, 244, 0.69); padding: 1px 5px; border-radius: 4px; display: inline-block; margin: 5px 0;\">gcc main.c -o output.exe -Wl,-Map=output.map</span></div>\n",
    "\n",
    "<div style=\"margin: 5px 0; font-size: 20px;\">▼</div>\n",
    "\n",
    "<div style=\"font-size: 25px; color: black; font-weight: bold; border: 5px solid black; padding: 3px; width: 150px; margin: 10px auto; background-color: white;\">output.map</div>\n",
    "</div>"
   ]
  },
  {
   "cell_type": "code",
   "execution_count": null,
   "id": "f7eab960",
   "metadata": {},
   "outputs": [],
   "source": [
    "%%file main.c\n",
    "#include <stdio.h>\n",
    "\n",
    "int main() {\n",
    "    printf(\"Hello, world!\\n\");\n",
    "    return 0;\n",
    "}"
   ]
  },
  {
   "cell_type": "markdown",
   "id": "c749ecfc",
   "metadata": {},
   "source": [
    "### 🔹 4. **Preprocessing (`*.c` → `*.i`)**"
   ]
  },
  {
   "cell_type": "code",
   "execution_count": null,
   "id": "dd2d8799",
   "metadata": {},
   "outputs": [],
   "source": [
    "%%cmd\n",
    "gcc -E main.c -o main.i"
   ]
  },
  {
   "cell_type": "markdown",
   "id": "793e5d32",
   "metadata": {},
   "source": [
    "### 🔹 4. **Compilation (`*.i` → `*.s`)**"
   ]
  },
  {
   "cell_type": "code",
   "execution_count": null,
   "id": "7510d110",
   "metadata": {},
   "outputs": [],
   "source": [
    "%%cmd\n",
    "gcc -S main.i -o main.s"
   ]
  },
  {
   "cell_type": "markdown",
   "id": "5f270a73",
   "metadata": {},
   "source": [
    "### 🔹 4. **Assembly (`*.s` → `*.o`)**"
   ]
  },
  {
   "cell_type": "code",
   "execution_count": null,
   "id": "457d2d21",
   "metadata": {},
   "outputs": [],
   "source": [
    "%%cmd\n",
    "gcc -c main.s -o main.o"
   ]
  },
  {
   "cell_type": "markdown",
   "id": "8f0134ce",
   "metadata": {},
   "source": [
    "### 🔹 4. **Linking (`*.o` → `*.exe`)**"
   ]
  },
  {
   "cell_type": "code",
   "execution_count": null,
   "id": "18864564",
   "metadata": {},
   "outputs": [],
   "source": [
    "%%cmd\n",
    "gcc main.o -o output.exe"
   ]
  },
  {
   "cell_type": "markdown",
   "id": "ddcb096d",
   "metadata": {},
   "source": [
    "### 🔹 4. **Map file Generation (Optional)**"
   ]
  },
  {
   "cell_type": "code",
   "execution_count": null,
   "id": "ee097137",
   "metadata": {},
   "outputs": [],
   "source": [
    "%%cmd\n",
    "gcc main.c -o output.exe -Wl,-Map=output.map"
   ]
  },
  {
   "cell_type": "code",
   "execution_count": 18,
   "id": "54f3dcf3",
   "metadata": {},
   "outputs": [],
   "source": [
    "%%cmd\n",
    "output.exe"
   ]
  }
 ],
 "metadata": {
  "kernelspec": {
   "display_name": "Python 3",
   "language": "python",
   "name": "python3"
  },
  "language_info": {
   "codemirror_mode": {
    "name": "ipython",
    "version": 3
   },
   "file_extension": ".py",
   "mimetype": "text/x-python",
   "name": "python",
   "nbconvert_exporter": "python",
   "pygments_lexer": "ipython3",
   "version": "3.12.4"
  }
 },
 "nbformat": 4,
 "nbformat_minor": 5
}
