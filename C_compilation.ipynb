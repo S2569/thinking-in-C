{
 "cells": [
  {
   "cell_type": "markdown",
   "id": "b55c50c8",
   "metadata": {},
   "source": [
    "<span style=\"color:#ADD8E6; font-size:60px; font-weight:bold\">C Program Compilation Process</span>\n",
    "\n",
    "---\n",
    "---\n",
    "\n",
    "## 🛠️<span style=\"color:#ADD8E6; font-size:40px; font-weight:bold\">Compilation Stages Overview</span>\n",
    "\n",
    "> We'll consider a Linux system here, where the C source code (`.c` file) is compiled into an executable—commonly with the `.elf` or `.out` extension.\n",
    "\n",
    ">The .c file contains human-readable code written in the C programming language. This must be converted into machine code, which consists of binary instructions (0s and 1s) that a CPU can understand and execute.\n",
    "\n",
    ">The final output file's extension depends on the operating system:\n",
    "\n",
    "+ Linux: `.elf`, `.out`\n",
    "\n",
    "+ Windows: `.exe`\n",
    "\n",
    "+ macOS: `.out`(typically just an executable with no extension)\n",
    "\n",
    "#### 💻**What Happens During Compilation?**\n",
    ">Compilation is the process of translating human-readable C code into binary instructions. This transformation is necessary because CPUs don’t understand text—they only process binary.\n",
    "\n",
    "#### 💻 **How the CPU Executes the Binary**\n",
    ">`Loading into Memory`: The operating system loads the compiled executable binary into the system’s memory (RAM).\n",
    "\n",
    ">`Execution`: The CPU directly reads and executes binary instructions, carrying out tasks such as arithmetic operations, data transfers, and memory access.\n"
   ]
  },
  {
   "cell_type": "markdown",
   "id": "69ce38f1",
   "metadata": {},
   "source": [
    "\n",
    "---\n",
    "---\n",
    "\n",
    "## 💡<span style=\"color:#ADD8E6; font-size:40px; font-weight:bold\">Detailed Compilation Steps</span>\n",
    "\n",
    ">During the compilation of a C program from source code (main.c) to an executable binary(output.elf), a series of steps occur: `preprocessing`, `compilation`, `assembly`, and `linking` —each generating intermediate files (.i, .s, .o). These files are automatically created and deleted unless explicitly retained (e.g., using -save-temps). By default, only the final executable (e.g., a.out) remains. The process can be streamlined with one-step compilation (gcc source.c -o output), which handles all stages implicitly.\n",
    "\n",
    "Below is a flowchart illustrating the different stages of the compilation process, along with the associated intermediate files created at each step:"
   ]
  },
  {
   "cell_type": "markdown",
   "id": "998e202f",
   "metadata": {},
   "source": [
    "<div style=\"display: flex; flex-direction: column; align-items: center; justify-content: center; text-align: center; font-family: Arial, sans-serif; margin: 20px auto;\">\n",
    "    <div style=\"font-size: 25px; color: black; font-weight: bold; border: 5px solid black; padding: 3px; width: 150px; margin-bottom: 10px; background-color: white;\">main.c</div>\n",
    "    <div style=\"margin: 5px 0; font-size: 20px;\">▼</div>\n",
    "    <div>Preprocessing: <span style=\"font-size: 18px; color: black; font-family: Courier, monospace; background-color: rgba(244, 244, 244, 0.69); padding: 1px 5px; border-radius: 4px; margin: 5px 0;\">gcc -E main.c -o main.i</span></div>\n",
    "    <div style=\"margin: 5px 0; font-size: 20px;\">▼</div>\n",
    "    <div style=\"font-size: 25px; color: black; font-weight: bold; border: 5px solid black; padding: 3px; width: 150px; margin-bottom: 10px; background-color: white;\">main.i</div>\n",
    "    <div style=\"margin: 5px 0; font-size: 20px;\">▼</div>\n",
    "    <div>Compilation: <span style=\"font-size: 18px; color: black; font-family: Courier, monospace; background-color: rgba(244, 244, 244, 0.69); padding: 1px 5px; border-radius: 4px; margin: 5px 0;\">gcc -S main.i -o main.s</span></div>\n",
    "    <div style=\"margin: 5px 0; font-size: 20px;\">▼</div>\n",
    "    <div style=\"font-size: 25px; color: black; font-weight: bold; border: 5px solid black; padding: 3px; width: 150px; margin-bottom: 10px; background-color: white;\">main.s</div>\n",
    "    <div style=\"margin: 5px 0; font-size: 20px;\">▼</div>\n",
    "    <div>Assembling: <span style=\"font-size: 18px; color: black; font-family: Courier, monospace; background-color: rgba(244, 244, 244, 0.69); padding: 1px 5px; border-radius: 4px; margin: 5px 0;\">gcc -c main.s -o main.o</span></div>\n",
    "    <div style=\"margin: 5px 0; font-size: 20px;\">▼</div>\n",
    "    <div style=\"font-size: 25px; color: black; font-weight: bold; border: 5px solid black; padding: 3px; width: 150px; margin-bottom: 10px; background-color: white;\">main.o</div>\n",
    "    <div style=\"margin: 5px 0; font-size: 20px;\">▼</div>\n",
    "    <div>Linking: <span style=\"font-size: 18px; color: black; font-family: Courier, monospace; background-color: rgba(244, 244, 244, 0.69); padding: 1px 5px; border-radius: 4px; margin: 5px 0;\">gcc main.o -o output.elf \"-Wl,-Map=output.map\"</span></div>\n",
    "    <div style=\"margin: 5px 0; font-size: 20px;\">▼</div>\n",
    "    <div style=\"font-size: 25px; color: black; font-weight: bold; border: 5px solid black; padding: 3px; width: 150px; margin-bottom: 10px; background-color: white;\">output.elf</div>\n",
    "    <div style=\"margin: 5px 0; font-size: 20px;\">▼</div>\n",
    "    <div>Generating map file (Optional)</div>\n",
    "    <div style=\"margin: 5px 0; font-size: 20px;\">▼</div>\n",
    "    <div style=\"font-size: 25px; color: black; font-weight: bold; border: 5px solid black; padding: 3px; width: 150px; margin-bottom: 10px; background-color: white;\">output.map</div>\n",
    "</div>\n",
    "\n",
    "--- \n",
    "---"
   ]
  },
  {
   "cell_type": "markdown",
   "id": "a7a0d740",
   "metadata": {},
   "source": [
    "\n",
    "Here is a basic C program saved as main.c, which prints 'Hello, world!' to the terminal:"
   ]
  },
  {
   "cell_type": "code",
   "execution_count": 15,
   "id": "25f959c4",
   "metadata": {},
   "outputs": [
    {
     "name": "stdout",
     "output_type": "stream",
     "text": [
      "Writing main.c\n"
     ]
    }
   ],
   "source": [
    "%%file main.c\n",
    "#include <stdio.h>\n",
    "\n",
    "int main() {\n",
    "    printf(\"Hello, world!\\n\");\n",
    "    return 0;\n",
    "}"
   ]
  },
  {
   "cell_type": "markdown",
   "id": "ddc59a96",
   "metadata": {},
   "source": [
    "---"
   ]
  },
  {
   "cell_type": "markdown",
   "id": "9dcb5924",
   "metadata": {},
   "source": [
    "\n",
    "\n",
    "### 🔹 1. **Preprocessing (`*.c` → `*.i`)**\n",
    "- **What happens:**\n",
    "  - Removes all comments (`//`, `/* */`)\n",
    "  - Handles all the `#include`, `#define`, `#ifdef` and other preprocessor directives\n",
    "  - Replaces all macros and header files with their full definitions\n",
    "  - Generates **pure C code**\n"
   ]
  },
  {
   "cell_type": "code",
   "execution_count": 16,
   "id": "031541b7",
   "metadata": {},
   "outputs": [
    {
     "name": "stdout",
     "output_type": "stream",
     "text": [
      "Couldn't find program: 'bash'\n"
     ]
    }
   ],
   "source": [
    "%%bash\n",
    "gcc -E main.c -o main.i\n",
    "# type main.i  "
   ]
  },
  {
   "cell_type": "markdown",
   "id": "f83ba4be",
   "metadata": {},
   "source": [
    "\n",
    "---\n",
    "\n",
    "### 🔹 2. **Compilation (`*.i` → `*.s`)**\n",
    "- **What happens:**\n",
    "  - Converts the preprocessed C code to assembly (CPU-specific).\n",
    "  - main.s will be written in human-readable assembly code (specific to the machine’s architecture).\n",
    "  - Performs syntax/semantic checks.\n",
    "  - Applies optimizations (if flags like `-O1`, `-O2`, or `-O3` are enabled).\n"
   ]
  },
  {
   "cell_type": "code",
   "execution_count": 17,
   "id": "f344817d",
   "metadata": {},
   "outputs": [
    {
     "name": "stdout",
     "output_type": "stream",
     "text": [
      "Couldn't find program: 'bash'\n"
     ]
    }
   ],
   "source": [
    "%%bash\n",
    "gcc -S main.i -o main.s"
   ]
  },
  {
   "cell_type": "markdown",
   "id": "80884bb2",
   "metadata": {},
   "source": [
    "\n",
    "---\n",
    "\n",
    "### 🔹 3. **Assembly (`*.s` → `*.o`)**\n",
    "- **What happens:**\n",
    "  - The assembler takes the assembly code and turns it into machine code (`object code`), stored in .o, which is a binary file containing the instructions the CPU can understand.\n",
    "  - Mnemonics (e.g., mov, add, call) are translated into binary instructions.\n",
    "  - Includes a symbol table that keeps track of labels, variables, and external references.\n",
    "  - The resulting .o file is not executable —  it may have references to things (like external functions or variables) that are unresolved.\n"
   ]
  },
  {
   "cell_type": "code",
   "execution_count": null,
   "id": "e9a4cdfb",
   "metadata": {},
   "outputs": [
    {
     "name": "stdout",
     "output_type": "stream",
     "text": [
      "Couldn't find program: 'bash'\n"
     ]
    }
   ],
   "source": [
    "%%bash\n",
    "gcc -c main.s -o main.o\n",
    "# objdump -d main.o"
   ]
  },
  {
   "cell_type": "markdown",
   "id": "f1be5e66",
   "metadata": {},
   "source": [
    "\n",
    "---\n",
    "\n",
    "### 🔹 4. **Linking (`*.o` → `*.elf`)**\n",
    "- **What happens:**\n",
    "  - Links the object file with other object files and libraries (like libc) onto one executable.\n",
    "  - Resolves symbols (like printf) from the C standard library.\n",
    "  - Resolves external symbols (libc, etc.).\n",
    "  - Assigns final memory addresses.\n",
    "  - Generates a fully executable binary executable(ELF format on Linux).\n"
   ]
  },
  {
   "cell_type": "code",
   "execution_count": null,
   "id": "619f44e8",
   "metadata": {},
   "outputs": [
    {
     "name": "stdout",
     "output_type": "stream",
     "text": [
      "Couldn't find program: 'bash'\n"
     ]
    }
   ],
   "source": [
    "%%bash\n",
    "gcc main.o -o output.elf"
   ]
  },
  {
   "cell_type": "markdown",
   "id": "fa593c9b",
   "metadata": {},
   "source": [
    "\n",
    "---\n",
    "\n",
    "### 🔹 5. **Map File Generation (Optional)**\n",
    "- **What happens:**\n",
    "  - Creates `memory layout report`.\n",
    "  - Shows symbol addresses, section sizes, Memory regions (.text, .data, .bss, etc.), Object file contributions to each section.\n",
    "  - Useful for embedded systems.\n"
   ]
  },
  {
   "cell_type": "code",
   "execution_count": null,
   "id": "edf6e9fa",
   "metadata": {},
   "outputs": [
    {
     "name": "stdout",
     "output_type": "stream",
     "text": [
      "Couldn't find program: 'bash'\n"
     ]
    }
   ],
   "source": [
    "%%bash\n",
    "gcc main.o -o output.elf -Wl,-Map=output.map"
   ]
  },
  {
   "cell_type": "markdown",
   "id": "f4795a53",
   "metadata": {},
   "source": [
    "After successful compilation, the generated executable (e.g., output.elf) can be ran to see the output in the terminal:"
   ]
  },
  {
   "cell_type": "code",
   "execution_count": null,
   "id": "a685034b",
   "metadata": {},
   "outputs": [
    {
     "name": "stdout",
     "output_type": "stream",
     "text": [
      "Couldn't find program: 'bash'\n"
     ]
    }
   ],
   "source": [
    "%%bash\n",
    "./output.elf"
   ]
  },
  {
   "cell_type": "markdown",
   "id": "dd307fab",
   "metadata": {},
   "source": [
    "---\n",
    "## 📘<span style=\"color:#ADD8E6; font-size:40px; font-weight:bold\">Extras</span>\n",
    "\n",
    "1. **View Expanded Headers:**\n",
    "   - Use `cat main.i` to see expanded headers after preprocessing.\n",
    "\n",
    "2. **Assembly Differences:**\n",
    "   - Different CPUs generate different assembly code. C is portable, but machine code isn’t.\n",
    "\n",
    "3. **Disassembly Insight:**\n",
    "   - Use `objdump -d main.o` to see the disassembly after assembly.\n",
    "\n",
    "4. **Key Linking Tools:**\n",
    "   - Important tools in linking include `ld` (linker) and `ar` (static libraries).\n",
    "\n",
    "5. **Generate Intermediate Files:**\n",
    "   - To see all intermediate files, use:\n",
    "     ```bash\n",
    "     gcc -save-temps main.c -o output\n",
    "     ```\n",
    "     This generates `.i`, `.s`, and `.o` files automatically.\n",
    "\n",
    "6. **Compiler Optimizations:**\n",
    "   **🔍 Optimization Levels (`-O0` vs `-O3`):**\n",
    "   - `-O0` disables optimizations, resulting in **verbose, straightforward assembly** that closely matches the original C code — useful for debugging and learning.\n",
    "   - `-O3` enables aggressive optimizations, producing **compact and efficient assembly** by inlining functions, unrolling loops, and removing redundant code.\n",
    "   - Comparing the two helps visualize how compilers transform source code for performance.\n",
    "\n",
    "\n",
    "7. **Cross-Compiling:**\n",
    "   - Use the `-target` flag for ARM/x86 differences when cross-compiling.\n",
    "\n",
    "\n",
    "\n",
    "\n",
    "---"
   ]
  }
 ],
 "metadata": {
  "kernelspec": {
   "display_name": "Python 3",
   "language": "python",
   "name": "python3"
  },
  "language_info": {
   "codemirror_mode": {
    "name": "ipython",
    "version": 3
   },
   "file_extension": ".py",
   "mimetype": "text/x-python",
   "name": "python",
   "nbconvert_exporter": "python",
   "pygments_lexer": "ipython3",
   "version": "3.12.4"
  }
 },
 "nbformat": 4,
 "nbformat_minor": 5
}
